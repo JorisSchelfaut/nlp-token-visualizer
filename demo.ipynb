{
 "cells": [
  {
   "cell_type": "markdown",
   "id": "2d69076f-4889-4eec-9e2f-8698db9207d3",
   "metadata": {},
   "source": [
    "# NLP Token Visualizer : demo"
   ]
  },
  {
   "cell_type": "code",
   "execution_count": 1,
   "id": "07b67c92-9bc0-4eaf-bef7-948bdcde0cdc",
   "metadata": {},
   "outputs": [],
   "source": [
    "#!pip install ipywidgets\n",
    "#!jupyter nbextension enable --py widgetsnbextension --sys-prefix\n",
    "#!jupyter nbextension install --py widgetsnbextension --sys-prefix"
   ]
  },
  {
   "cell_type": "code",
   "execution_count": 2,
   "id": "bd570bfd-9aef-41f8-b16f-5e20a132e370",
   "metadata": {},
   "outputs": [],
   "source": [
    "import tokenviz\n",
    "from tokenviz.visualization import process_text\n",
    "import ipywidgets as widgets\n",
    "from IPython.display import display, HTML"
   ]
  },
  {
   "cell_type": "markdown",
   "id": "1aa33192-1d5b-4db5-9da9-1f8b53dae27d",
   "metadata": {},
   "source": [
    "## Define encoding / decoding scheme\n",
    "\n",
    "Here I'm borrowing some code from Andrej Karpathy's video lecture [Let's build GPT: from scratch, in code, spelled out.](https://www.youtube.com/watch?v=kCc8FmEb1nY). When using your own tokenizer, replace these methods with your own appropriate code."
   ]
  },
  {
   "cell_type": "code",
   "execution_count": 3,
   "id": "e327ffcd-0424-4c2f-825b-68633e39c3dc",
   "metadata": {},
   "outputs": [],
   "source": [
    "# taken from: https://github.com/karpathy/ng-video-lecture/blob/master/bigram.py\n",
    "\n",
    "with open('_demo/input.txt', 'r', encoding='utf-8') as f:\n",
    "    text = f.read()\n",
    "\n",
    "# here are all the unique characters that occur in this text\n",
    "chars = sorted(list(set(text)))\n",
    "vocab_size = len(chars)\n",
    "# create a mapping from characters to integers\n",
    "stoi = { ch:i for i,ch in enumerate(chars) }\n",
    "itos = { i:ch for i,ch in enumerate(chars) }\n",
    "encode = lambda s: [stoi[c] for c in s] # encoder: take a string, output a list of integers\n",
    "decode = lambda l: ''.join([itos[i] for i in l]) # decoder: take a list of integers, output a string"
   ]
  },
  {
   "cell_type": "markdown",
   "id": "c3faa6e6-4acc-45c1-b360-1dedd42ab6f8",
   "metadata": {},
   "source": [
    "## HTML example\n",
    "\n",
    "Here's a simple example using the predefined encoding/decoding methods with a simple string."
   ]
  },
  {
   "cell_type": "code",
   "execution_count": 4,
   "id": "bb706aef-a7fd-410a-ac64-8db3c1dd8706",
   "metadata": {},
   "outputs": [
    {
     "data": {
      "application/vnd.jupyter.widget-view+json": {
       "model_id": "7025c9fa0c3d4de4bab2ddbd42e158cc",
       "version_major": 2,
       "version_minor": 0
      },
      "text/plain": [
       "Output()"
      ]
     },
     "metadata": {},
     "output_type": "display_data"
    },
    {
     "name": "stdout",
     "output_type": "stream",
     "text": [
      "<span style=\"background-color: Khaki;\">H</span><span style=\"background-color: AliceBlue;\">e</span><span style=\"background-color: Aquamarine;\">l</span><span style=\"background-color: Coral;\">l</span><span style=\"background-color: Lavender;\">o</span><span style=\"background-color: Ivory;\"> </span><span style=\"background-color: DarkSalmon;\">w</span><span style=\"background-color: Khaki;\">o</span><span style=\"background-color: AliceBlue;\">r</span><span style=\"background-color: Aquamarine;\">l</span><span style=\"background-color: Coral;\">d</span><span style=\"background-color: Lavender;\">!</span>\n"
     ]
    }
   ],
   "source": [
    "text = 'Hello world!'\n",
    "output = widgets.Output()\n",
    "with output:\n",
    "    output.clear_output()  # Clear previous output\n",
    "    processed_text = process_text(text, encode, decode, markup='html')\n",
    "    display(HTML(processed_text))\n",
    "display(output)\n",
    "\n",
    "print(processed_text)"
   ]
  },
  {
   "cell_type": "markdown",
   "id": "913a1695-8ccf-4a33-9dba-e3fb8d3bf6e1",
   "metadata": {},
   "source": [
    "## LaTeX example\n",
    "\n",
    "Add the following imports and definitions to your LaTeX document.\n",
    "\n",
    "```latex\n",
    "\\usepackage{listings}\n",
    "\\usepackage{xcolor}\n",
    "\n",
    "% Define a custom style for listings\n",
    "\\lstdefinestyle{custom}{\n",
    "    basicstyle=\\small\\ttfamily, % Small font size and typewriter style\n",
    "    escapeinside={(*@}{@*)},    % Escape for inline LaTeX\n",
    "}\n",
    "\\begin{lstlisting}[caption=My title, label=mylabel, style=custom]\n",
    "% Your LaTeX code goes here\n",
    "\\end{lstlisting}\n",
    "```"
   ]
  },
  {
   "cell_type": "code",
   "execution_count": 5,
   "id": "44b1a301-e2e6-43de-bf96-20edc5f4a034",
   "metadata": {},
   "outputs": [
    {
     "name": "stdout",
     "output_type": "stream",
     "text": [
      "(*@\\colorbox{yellow}{H}@*)(*@\\colorbox{pink}{e}@*)(*@\\colorbox{lightgray}{l}@*)(*@\\colorbox{lime}{l}@*)(*@\\colorbox{cyan}{o}@*)(*@\\colorbox{magenta}{ }@*)(*@\\colorbox{yellow}{w}@*)(*@\\colorbox{pink}{o}@*)(*@\\colorbox{lightgray}{r}@*)(*@\\colorbox{lime}{l}@*)(*@\\colorbox{cyan}{d}@*)(*@\\colorbox{magenta}{!}@*)\n"
     ]
    }
   ],
   "source": [
    "text = 'Hello world!'\n",
    "processed_text = process_text(text, encode, decode, markup='latex', colors=tokenviz.visualization.LATEX_COLORS)\n",
    "print(processed_text)"
   ]
  },
  {
   "cell_type": "code",
   "execution_count": null,
   "id": "4037c6c7-ca76-49a7-a175-a8541c555dfd",
   "metadata": {},
   "outputs": [],
   "source": []
  }
 ],
 "metadata": {
  "kernelspec": {
   "display_name": "Python 3 (ipykernel)",
   "language": "python",
   "name": "python3"
  },
  "language_info": {
   "codemirror_mode": {
    "name": "ipython",
    "version": 3
   },
   "file_extension": ".py",
   "mimetype": "text/x-python",
   "name": "python",
   "nbconvert_exporter": "python",
   "pygments_lexer": "ipython3",
   "version": "3.11.9"
  }
 },
 "nbformat": 4,
 "nbformat_minor": 5
}
